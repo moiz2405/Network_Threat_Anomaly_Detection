{
 "cells": [
  {
   "cell_type": "code",
   "execution_count": 7,
   "id": "e7b5d038",
   "metadata": {},
   "outputs": [],
   "source": [
    "import pandas as pd\n",
    "import numpy as np\n",
    "from sklearn.preprocessing import LabelEncoder, MinMaxScaler\n"
   ]
  },
  {
   "cell_type": "code",
   "execution_count": 8,
   "id": "5423b4e3",
   "metadata": {},
   "outputs": [
    {
     "name": "stdout",
     "output_type": "stream",
     "text": [
      "(547557, 91)\n"
     ]
    }
   ],
   "source": [
    "df = pd.read_csv(\"data/CICIDS2017.csv\")\n",
    "print(df.shape)\n"
   ]
  },
  {
   "cell_type": "code",
   "execution_count": 9,
   "id": "4eabb9e9",
   "metadata": {},
   "outputs": [],
   "source": [
    "columns_to_drop = ['id', 'Flow ID', 'Src IP', 'Dst IP', 'Timestamp', 'Attempted Category']\n",
    "df.drop(columns=columns_to_drop, inplace=True)\n",
    "if 'Src Port' in df.columns and 'Dst Port' in df.columns:\n",
    "    df.drop(['Src Port', 'Dst Port'], axis=1, inplace=True)\n",
    "\n",
    "\n",
    "\n"
   ]
  },
  {
   "cell_type": "code",
   "execution_count": 10,
   "id": "e5dc0630",
   "metadata": {},
   "outputs": [
    {
     "name": "stdout",
     "output_type": "stream",
     "text": [
      "Shape after cleaning: (547557, 83)\n"
     ]
    }
   ],
   "source": [
    "df.replace([np.inf, -np.inf], np.nan, inplace=True)\n",
    "df.dropna(inplace=True)\n",
    "print(\"Shape after cleaning:\", df.shape)\n"
   ]
  },
  {
   "cell_type": "code",
   "execution_count": 11,
   "id": "620beb16",
   "metadata": {},
   "outputs": [],
   "source": [
    "df['Label'] = df['Label'].apply(lambda x: 0 if x == 'BENIGN' else 1)\n"
   ]
  },
  {
   "cell_type": "code",
   "execution_count": 12,
   "id": "757e230b",
   "metadata": {},
   "outputs": [],
   "source": [
    "X = df.drop(\"Label\", axis=1)\n",
    "y = df[\"Label\"]\n"
   ]
  },
  {
   "cell_type": "code",
   "execution_count": 13,
   "id": "b7e15e2a",
   "metadata": {},
   "outputs": [],
   "source": [
    "scaler = MinMaxScaler()\n",
    "X_scaled = scaler.fit_transform(X)\n"
   ]
  },
  {
   "cell_type": "code",
   "execution_count": 14,
   "id": "8eec0f1d",
   "metadata": {},
   "outputs": [],
   "source": [
    "import joblib\n",
    "\n",
    "joblib.dump(scaler, \"models/scaler.pkl\")\n",
    "np.save(\"data/X_scaled.npy\", X_scaled)\n",
    "np.save(\"data/y.npy\", y)\n"
   ]
  },
  {
   "cell_type": "code",
   "execution_count": null,
   "id": "4b9df3b0",
   "metadata": {},
   "outputs": [],
   "source": []
  }
 ],
 "metadata": {
  "kernelspec": {
   "display_name": "Python 3",
   "language": "python",
   "name": "python3"
  },
  "language_info": {
   "codemirror_mode": {
    "name": "ipython",
    "version": 3
   },
   "file_extension": ".py",
   "mimetype": "text/x-python",
   "name": "python",
   "nbconvert_exporter": "python",
   "pygments_lexer": "ipython3",
   "version": "3.13.2"
  }
 },
 "nbformat": 4,
 "nbformat_minor": 5
}
