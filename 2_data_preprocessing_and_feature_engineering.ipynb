{
 "cells": [
  {
   "cell_type": "markdown",
   "id": "635e68af",
   "metadata": {},
   "source": [
    "# Data Preprocessing and Feature Engineering\n",
    "\n",
    "This notebook handles the preprocessing of the CICIDS2017 dataset, including:\n",
    "- Data loading and exploration\n",
    "- Cleaning and preprocessing\n",
    "- Feature scaling\n",
    "- Label encoding\n",
    "- Saving processed data for model training"
   ]
  },
  {
   "cell_type": "markdown",
   "id": "9f373042",
   "metadata": {},
   "source": [
    "## 1. Import Required Libraries"
   ]
  },
  {
   "cell_type": "code",
   "execution_count": 1,
   "id": "e7b5d038",
   "metadata": {},
   "outputs": [],
   "source": [
    "import pandas as pd\n",
    "import numpy as np\n",
    "from sklearn.preprocessing import LabelEncoder, MinMaxScaler\n"
   ]
  },
  {
   "cell_type": "code",
   "execution_count": 2,
   "id": "5423b4e3",
   "metadata": {},
   "outputs": [
    {
     "name": "stdout",
     "output_type": "stream",
     "text": [
      "(547557, 91)\n"
     ]
    }
   ],
   "source": [
    "df = pd.read_csv(\"data/CICIDS2017.csv\")\n",
    "print(df.shape)\n"
   ]
  },
  {
   "cell_type": "markdown",
   "id": "3dcfb1b0",
   "metadata": {},
   "source": [
    "## 2. Load and Explore Dataset"
   ]
  },
  {
   "cell_type": "code",
   "execution_count": 3,
   "id": "7fd0cc9c",
   "metadata": {},
   "outputs": [
    {
     "name": "stdout",
     "output_type": "stream",
     "text": [
      "Dataset Info:\n",
      "<class 'pandas.core.frame.DataFrame'>\n",
      "RangeIndex: 547557 entries, 0 to 547556\n",
      "Data columns (total 91 columns):\n",
      " #   Column                      Non-Null Count   Dtype  \n",
      "---  ------                      --------------   -----  \n",
      " 0   id                          547557 non-null  int64  \n",
      " 1   Flow ID                     547557 non-null  object \n",
      " 2   Src IP                      547557 non-null  object \n",
      " 3   Src Port                    547557 non-null  int64  \n",
      " 4   Dst IP                      547557 non-null  object \n",
      " 5   Dst Port                    547557 non-null  int64  \n",
      " 6   Protocol                    547557 non-null  int64  \n",
      " 7   Timestamp                   547557 non-null  object \n",
      " 8   Flow Duration               547557 non-null  int64  \n",
      " 9   Total Fwd Packet            547557 non-null  int64  \n",
      " 10  Total Bwd packets           547557 non-null  int64  \n",
      " 11  Total Length of Fwd Packet  547557 non-null  int64  \n",
      " 12  Total Length of Bwd Packet  547557 non-null  int64  \n",
      " 13  Fwd Packet Length Max       547557 non-null  int64  \n",
      " 14  Fwd Packet Length Min       547557 non-null  int64  \n",
      " 15  Fwd Packet Length Mean      547557 non-null  float64\n",
      " 16  Fwd Packet Length Std       547557 non-null  float64\n",
      " 17  Bwd Packet Length Max       547557 non-null  int64  \n",
      " 18  Bwd Packet Length Min       547557 non-null  int64  \n",
      " 19  Bwd Packet Length Mean      547557 non-null  float64\n",
      " 20  Bwd Packet Length Std       547557 non-null  float64\n",
      " 21  Flow Bytes/s                547557 non-null  float64\n",
      " 22  Flow Packets/s              547557 non-null  float64\n",
      " 23  Flow IAT Mean               547557 non-null  float64\n",
      " 24  Flow IAT Std                547557 non-null  float64\n",
      " 25  Flow IAT Max                547557 non-null  int64  \n",
      " 26  Flow IAT Min                547557 non-null  int64  \n",
      " 27  Fwd IAT Total               547557 non-null  int64  \n",
      " 28  Fwd IAT Mean                547557 non-null  float64\n",
      " 29  Fwd IAT Std                 547557 non-null  float64\n",
      " 30  Fwd IAT Max                 547557 non-null  int64  \n",
      " 31  Fwd IAT Min                 547557 non-null  int64  \n",
      " 32  Bwd IAT Total               547557 non-null  int64  \n",
      " 33  Bwd IAT Mean                547557 non-null  float64\n",
      " 34  Bwd IAT Std                 547557 non-null  float64\n",
      " 35  Bwd IAT Max                 547557 non-null  int64  \n",
      " 36  Bwd IAT Min                 547557 non-null  int64  \n",
      " 37  Fwd PSH Flags               547557 non-null  int64  \n",
      " 38  Bwd PSH Flags               547557 non-null  int64  \n",
      " 39  Fwd URG Flags               547557 non-null  int64  \n",
      " 40  Bwd URG Flags               547557 non-null  int64  \n",
      " 41  Fwd RST Flags               547557 non-null  int64  \n",
      " 42  Bwd RST Flags               547557 non-null  int64  \n",
      " 43  Fwd Header Length           547557 non-null  int64  \n",
      " 44  Bwd Header Length           547557 non-null  int64  \n",
      " 45  Fwd Packets/s               547557 non-null  float64\n",
      " 46  Bwd Packets/s               547557 non-null  float64\n",
      " 47  Packet Length Min           547557 non-null  int64  \n",
      " 48  Packet Length Max           547557 non-null  int64  \n",
      " 49  Packet Length Mean          547557 non-null  float64\n",
      " 50  Packet Length Std           547557 non-null  float64\n",
      " 51  Packet Length Variance      547557 non-null  float64\n",
      " 52  FIN Flag Count              547557 non-null  int64  \n",
      " 53  SYN Flag Count              547557 non-null  int64  \n",
      " 54  RST Flag Count              547557 non-null  int64  \n",
      " 55  PSH Flag Count              547557 non-null  int64  \n",
      " 56  ACK Flag Count              547557 non-null  int64  \n",
      " 57  URG Flag Count              547557 non-null  int64  \n",
      " 58  CWR Flag Count              547557 non-null  int64  \n",
      " 59  ECE Flag Count              547557 non-null  int64  \n",
      " 60  Down/Up Ratio               547557 non-null  float64\n",
      " 61  Average Packet Size         547557 non-null  float64\n",
      " 62  Fwd Segment Size Avg        547557 non-null  float64\n",
      " 63  Bwd Segment Size Avg        547557 non-null  float64\n",
      " 64  Fwd Bytes/Bulk Avg          547557 non-null  int64  \n",
      " 65  Fwd Packet/Bulk Avg         547557 non-null  int64  \n",
      " 66  Fwd Bulk Rate Avg           547557 non-null  int64  \n",
      " 67  Bwd Bytes/Bulk Avg          547557 non-null  int64  \n",
      " 68  Bwd Packet/Bulk Avg         547557 non-null  int64  \n",
      " 69  Bwd Bulk Rate Avg           547557 non-null  int64  \n",
      " 70  Subflow Fwd Packets         547557 non-null  int64  \n",
      " 71  Subflow Fwd Bytes           547557 non-null  int64  \n",
      " 72  Subflow Bwd Packets         547557 non-null  int64  \n",
      " 73  Subflow Bwd Bytes           547557 non-null  int64  \n",
      " 74  FWD Init Win Bytes          547557 non-null  int64  \n",
      " 75  Bwd Init Win Bytes          547557 non-null  int64  \n",
      " 76  Fwd Act Data Pkts           547557 non-null  int64  \n",
      " 77  Fwd Seg Size Min            547557 non-null  int64  \n",
      " 78  Active Mean                 547557 non-null  float64\n",
      " 79  Active Std                  547557 non-null  float64\n",
      " 80  Active Max                  547557 non-null  int64  \n",
      " 81  Active Min                  547557 non-null  int64  \n",
      " 82  Idle Mean                   547557 non-null  float64\n",
      " 83  Idle Std                    547557 non-null  float64\n",
      " 84  Idle Max                    547557 non-null  int64  \n",
      " 85  Idle Min                    547557 non-null  int64  \n",
      " 86  ICMP Code                   547557 non-null  int64  \n",
      " 87  ICMP Type                   547557 non-null  int64  \n",
      " 88  Total TCP Flow Time         547557 non-null  int64  \n",
      " 89  Label                       547557 non-null  object \n",
      " 90  Attempted Category          547557 non-null  int64  \n",
      "dtypes: float64(25), int64(61), object(5)\n",
      "memory usage: 380.2+ MB\n",
      "None\n",
      "\n",
      "Dataset head:\n",
      "   id                                  Flow ID         Src IP  Src Port  \\\n",
      "0   1  192.168.10.50-192.168.10.3-56108-3268-6  192.168.10.50     56108   \n",
      "1   2   192.168.10.50-192.168.10.3-42144-389-6  192.168.10.50     42144   \n",
      "2   3                    8.6.0.1-8.0.6.4-0-0-0        8.6.0.1         0   \n",
      "3   4   192.168.10.25-224.0.0.251-5353-5353-17  192.168.10.25      5353   \n",
      "4   5   192.168.10.25-17.253.14.125-123-123-17  192.168.10.25       123   \n",
      "\n",
      "          Dst IP  Dst Port  Protocol                   Timestamp  \\\n",
      "0   192.168.10.3      3268         6  2017-07-07 11:59:50.315195   \n",
      "1   192.168.10.3       389         6  2017-07-07 11:59:50.316273   \n",
      "2        8.0.6.4         0         0  2017-07-07 12:00:31.388567   \n",
      "3    224.0.0.251      5353        17  2017-07-07 12:00:42.903850   \n",
      "4  17.253.14.125       123        17  2017-07-07 12:00:42.430758   \n",
      "\n",
      "   Flow Duration  Total Fwd Packet  ...  Active Min     Idle Mean  \\\n",
      "0      112740690                32  ...         343  1.610540e+07   \n",
      "1      112740560                32  ...         285  1.610543e+07   \n",
      "2      113757377               545  ...          19  1.221036e+07   \n",
      "3       91997219               388  ...          16  1.319764e+07   \n",
      "4       66966070                 6  ...     1968172  6.497443e+07   \n",
      "\n",
      "       Idle Std  Idle Max  Idle Min  ICMP Code  ICMP Type  \\\n",
      "0  4.988048e+05  16399772  15375229         -1         -1   \n",
      "1  4.987937e+05  16399782  15375263         -1         -1   \n",
      "2  6.935824e+06  20757030   5504997         -1         -1   \n",
      "3  5.826905e+06  19776791   5817470         -1         -1   \n",
      "4  0.000000e+00  64974431  64974431         -1         -1   \n",
      "\n",
      "   Total TCP Flow Time   Label  Attempted Category  \n",
      "0            112740690  BENIGN                  -1  \n",
      "1            112740560  BENIGN                  -1  \n",
      "2                    0  BENIGN                  -1  \n",
      "3                    0  BENIGN                  -1  \n",
      "4                    0  BENIGN                  -1  \n",
      "\n",
      "[5 rows x 91 columns]\n",
      "\n",
      "Label distribution:\n",
      "Label\n",
      "BENIGN                288544\n",
      "Portscan              159066\n",
      "DDoS                   95144\n",
      "Botnet - Attempted      4067\n",
      "Botnet                   736\n",
      "Name: count, dtype: int64\n",
      "Label\n",
      "BENIGN                288544\n",
      "Portscan              159066\n",
      "DDoS                   95144\n",
      "Botnet - Attempted      4067\n",
      "Botnet                   736\n",
      "Name: count, dtype: int64\n"
     ]
    }
   ],
   "source": [
    "# Examine the dataset structure\n",
    "print(\"Dataset Info:\")\n",
    "print(df.info())\n",
    "print(\"\\nDataset head:\")\n",
    "print(df.head())\n",
    "print(\"\\nLabel distribution:\")\n",
    "print(df['Label'].value_counts())"
   ]
  },
  {
   "cell_type": "code",
   "execution_count": 4,
   "id": "4eabb9e9",
   "metadata": {},
   "outputs": [
    {
     "name": "stdout",
     "output_type": "stream",
     "text": [
      "Dropped columns: ['id', 'Flow ID', 'Src IP', 'Dst IP', 'Timestamp', 'Attempted Category', 'Src Port', 'Dst Port']\n",
      "Remaining columns: 83\n",
      "Dataset shape after dropping columns: (547557, 83)\n"
     ]
    }
   ],
   "source": [
    "# Drop unnecessary columns\n",
    "columns_to_drop = []\n",
    "\n",
    "# Add columns to drop if they exist\n",
    "potential_drops = ['id', 'Flow ID', 'Src IP', 'Dst IP', 'Timestamp', 'Attempted Category', 'Src Port', 'Dst Port']\n",
    "for col in potential_drops:\n",
    "    if col in df.columns:\n",
    "        columns_to_drop.append(col)\n",
    "\n",
    "if columns_to_drop:\n",
    "    df.drop(columns=columns_to_drop, inplace=True)\n",
    "    print(f\"Dropped columns: {columns_to_drop}\")\n",
    "\n",
    "print(f\"Remaining columns: {len(df.columns)}\")\n",
    "print(f\"Dataset shape after dropping columns: {df.shape}\")\n",
    "\n",
    "\n",
    "\n"
   ]
  },
  {
   "cell_type": "markdown",
   "id": "a5deb7b2",
   "metadata": {},
   "source": [
    "## 3. Data Cleaning and Preprocessing"
   ]
  },
  {
   "cell_type": "code",
   "execution_count": 5,
   "id": "e5dc0630",
   "metadata": {},
   "outputs": [
    {
     "name": "stdout",
     "output_type": "stream",
     "text": [
      "Shape after cleaning: (547557, 83)\n"
     ]
    }
   ],
   "source": [
    "df.replace([np.inf, -np.inf], np.nan, inplace=True)\n",
    "df.dropna(inplace=True)\n",
    "print(\"Shape after cleaning:\", df.shape)\n"
   ]
  },
  {
   "cell_type": "markdown",
   "id": "8ddb1aaf",
   "metadata": {},
   "source": [
    "## 4. Label Encoding"
   ]
  },
  {
   "cell_type": "code",
   "execution_count": 6,
   "id": "620beb16",
   "metadata": {},
   "outputs": [
    {
     "name": "stdout",
     "output_type": "stream",
     "text": [
      "Label encoding completed and saved to models/label_encoder.pkl\n"
     ]
    }
   ],
   "source": [
    "from sklearn.preprocessing import LabelEncoder\n",
    "import joblib\n",
    "\n",
    "# Encode labels\n",
    "le = LabelEncoder()\n",
    "df['Label'] = le.fit_transform(df['Label'])\n",
    "\n",
    "# Save the encoder for later use\n",
    "joblib.dump(le, \"models/label_encoder.pkl\")\n",
    "print(\"Label encoding completed and saved to models/label_encoder.pkl\")\n"
   ]
  },
  {
   "cell_type": "code",
   "execution_count": 7,
   "id": "757e230b",
   "metadata": {},
   "outputs": [],
   "source": [
    "X = df.drop(\"Label\", axis=1)\n",
    "y = df[\"Label\"]\n"
   ]
  },
  {
   "cell_type": "markdown",
   "id": "f0096d7c",
   "metadata": {},
   "source": [
    "## 5. Feature Scaling and Data Preparation"
   ]
  },
  {
   "cell_type": "code",
   "execution_count": 8,
   "id": "b7e15e2a",
   "metadata": {},
   "outputs": [],
   "source": [
    "scaler = MinMaxScaler()\n",
    "X_scaled = scaler.fit_transform(X)\n"
   ]
  },
  {
   "cell_type": "markdown",
   "id": "bfdfba81",
   "metadata": {},
   "source": [
    "## 6. Save Processed Data"
   ]
  },
  {
   "cell_type": "code",
   "execution_count": 9,
   "id": "8eec0f1d",
   "metadata": {},
   "outputs": [
    {
     "name": "stdout",
     "output_type": "stream",
     "text": [
      "Scaler saved to models/scaler.pkl\n",
      "Scaled features saved to data/X_scaled.npy\n",
      "Labels saved to data/y.npy\n",
      "Final dataset shape: (547557, 82)\n",
      "Number of classes: 5\n"
     ]
    }
   ],
   "source": [
    "import joblib\n",
    "import numpy as np\n",
    "\n",
    "# Save the scaler and processed data\n",
    "joblib.dump(scaler, \"models/scaler.pkl\")\n",
    "np.save(\"data/X_scaled.npy\", X_scaled)\n",
    "np.save(\"data/y.npy\", y)\n",
    "\n",
    "print(\"Scaler saved to models/scaler.pkl\")\n",
    "print(\"Scaled features saved to data/X_scaled.npy\")\n",
    "print(\"Labels saved to data/y.npy\")\n",
    "print(f\"Final dataset shape: {X_scaled.shape}\")\n",
    "print(f\"Number of classes: {len(np.unique(y))}\")\n"
   ]
  },
  {
   "cell_type": "code",
   "execution_count": null,
   "id": "e7fef5c7",
   "metadata": {},
   "outputs": [],
   "source": []
  }
 ],
 "metadata": {
  "kernelspec": {
   "display_name": "Python 3",
   "language": "python",
   "name": "python3"
  },
  "language_info": {
   "codemirror_mode": {
    "name": "ipython",
    "version": 3
   },
   "file_extension": ".py",
   "mimetype": "text/x-python",
   "name": "python",
   "nbconvert_exporter": "python",
   "pygments_lexer": "ipython3",
   "version": "3.13.2"
  }
 },
 "nbformat": 4,
 "nbformat_minor": 5
}
